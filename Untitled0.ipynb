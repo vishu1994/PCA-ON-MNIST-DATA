{
  "nbformat": 4,
  "nbformat_minor": 0,
  "metadata": {
    "colab": {
      "name": "Untitled0.ipynb",
      "version": "0.3.2",
      "provenance": []
    }
  },
  "cells": [
    {
      "cell_type": "markdown",
      "metadata": {
        "id": "view-in-github",
        "colab_type": "text"
      },
      "source": [
        "[View in Colaboratory](https://colab.research.google.com/github/vishu1994/PCA-ON-MNIST-DATA/blob/master/Untitled0.ipynb)"
      ]
    },
    {
      "metadata": {
        "id": "4JUqb-a_BBeV",
        "colab_type": "code",
        "colab": {
          "base_uri": "https://localhost:8080/",
          "height": 206
        },
        "outputId": "fba0ea8f-e019-443a-8c25-3cbba3b9cbea"
      },
      "cell_type": "code",
      "source": [
        "#@title Default title text\n",
        "print(\"hello world\")\n",
        "for i in range(1,10):\n",
        "  print(i)"
      ],
      "execution_count": 3,
      "outputs": [
        {
          "output_type": "stream",
          "text": [
            "hello world\n",
            "1\n",
            "2\n",
            "3\n",
            "4\n",
            "5\n",
            "6\n",
            "7\n",
            "8\n",
            "9\n"
          ],
          "name": "stdout"
        }
      ]
    },
    {
      "metadata": {
        "id": "12WzJDMUBhrr",
        "colab_type": "text"
      },
      "cell_type": "markdown",
      "source": [
        "**OBJECTIVE**"
      ]
    },
    {
      "metadata": {
        "id": "LFLgDXCsBvWG",
        "colab_type": "code",
        "colab": {}
      },
      "cell_type": "code",
      "source": [
        ""
      ],
      "execution_count": 0,
      "outputs": []
    }
  ]
}